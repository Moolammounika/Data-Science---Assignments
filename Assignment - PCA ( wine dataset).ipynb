{
 "cells": [
  {
   "cell_type": "markdown",
   "metadata": {},
   "source": [
    "### wine dataset"
   ]
  },
  {
   "cell_type": "code",
   "execution_count": 1,
   "metadata": {},
   "outputs": [],
   "source": [
    "# import all required libraries\n",
    "import pandas as pd \n",
    "import numpy as np\n",
    "from sklearn.decomposition import PCA\n",
    "import matplotlib.pyplot as plt\n",
    "from sklearn.preprocessing import scale"
   ]
  },
  {
   "cell_type": "code",
   "execution_count": 2,
   "metadata": {
    "scrolled": true
   },
   "outputs": [
    {
     "data": {
      "text/html": [
       "<div>\n",
       "<style scoped>\n",
       "    .dataframe tbody tr th:only-of-type {\n",
       "        vertical-align: middle;\n",
       "    }\n",
       "\n",
       "    .dataframe tbody tr th {\n",
       "        vertical-align: top;\n",
       "    }\n",
       "\n",
       "    .dataframe thead th {\n",
       "        text-align: right;\n",
       "    }\n",
       "</style>\n",
       "<table border=\"1\" class=\"dataframe\">\n",
       "  <thead>\n",
       "    <tr style=\"text-align: right;\">\n",
       "      <th></th>\n",
       "      <th>Type</th>\n",
       "      <th>Alcohol</th>\n",
       "      <th>Malic</th>\n",
       "      <th>Ash</th>\n",
       "      <th>Alcalinity</th>\n",
       "      <th>Magnesium</th>\n",
       "      <th>Phenols</th>\n",
       "      <th>Flavanoids</th>\n",
       "      <th>Nonflavanoids</th>\n",
       "      <th>Proanthocyanins</th>\n",
       "      <th>Color</th>\n",
       "      <th>Hue</th>\n",
       "      <th>Dilution</th>\n",
       "      <th>Proline</th>\n",
       "    </tr>\n",
       "  </thead>\n",
       "  <tbody>\n",
       "    <tr>\n",
       "      <th>0</th>\n",
       "      <td>1</td>\n",
       "      <td>14.23</td>\n",
       "      <td>1.71</td>\n",
       "      <td>2.43</td>\n",
       "      <td>15.6</td>\n",
       "      <td>127</td>\n",
       "      <td>2.80</td>\n",
       "      <td>3.06</td>\n",
       "      <td>0.28</td>\n",
       "      <td>2.29</td>\n",
       "      <td>5.64</td>\n",
       "      <td>1.04</td>\n",
       "      <td>3.92</td>\n",
       "      <td>1065</td>\n",
       "    </tr>\n",
       "    <tr>\n",
       "      <th>1</th>\n",
       "      <td>1</td>\n",
       "      <td>13.20</td>\n",
       "      <td>1.78</td>\n",
       "      <td>2.14</td>\n",
       "      <td>11.2</td>\n",
       "      <td>100</td>\n",
       "      <td>2.65</td>\n",
       "      <td>2.76</td>\n",
       "      <td>0.26</td>\n",
       "      <td>1.28</td>\n",
       "      <td>4.38</td>\n",
       "      <td>1.05</td>\n",
       "      <td>3.40</td>\n",
       "      <td>1050</td>\n",
       "    </tr>\n",
       "    <tr>\n",
       "      <th>2</th>\n",
       "      <td>1</td>\n",
       "      <td>13.16</td>\n",
       "      <td>2.36</td>\n",
       "      <td>2.67</td>\n",
       "      <td>18.6</td>\n",
       "      <td>101</td>\n",
       "      <td>2.80</td>\n",
       "      <td>3.24</td>\n",
       "      <td>0.30</td>\n",
       "      <td>2.81</td>\n",
       "      <td>5.68</td>\n",
       "      <td>1.03</td>\n",
       "      <td>3.17</td>\n",
       "      <td>1185</td>\n",
       "    </tr>\n",
       "    <tr>\n",
       "      <th>3</th>\n",
       "      <td>1</td>\n",
       "      <td>14.37</td>\n",
       "      <td>1.95</td>\n",
       "      <td>2.50</td>\n",
       "      <td>16.8</td>\n",
       "      <td>113</td>\n",
       "      <td>3.85</td>\n",
       "      <td>3.49</td>\n",
       "      <td>0.24</td>\n",
       "      <td>2.18</td>\n",
       "      <td>7.80</td>\n",
       "      <td>0.86</td>\n",
       "      <td>3.45</td>\n",
       "      <td>1480</td>\n",
       "    </tr>\n",
       "    <tr>\n",
       "      <th>4</th>\n",
       "      <td>1</td>\n",
       "      <td>13.24</td>\n",
       "      <td>2.59</td>\n",
       "      <td>2.87</td>\n",
       "      <td>21.0</td>\n",
       "      <td>118</td>\n",
       "      <td>2.80</td>\n",
       "      <td>2.69</td>\n",
       "      <td>0.39</td>\n",
       "      <td>1.82</td>\n",
       "      <td>4.32</td>\n",
       "      <td>1.04</td>\n",
       "      <td>2.93</td>\n",
       "      <td>735</td>\n",
       "    </tr>\n",
       "  </tbody>\n",
       "</table>\n",
       "</div>"
      ],
      "text/plain": [
       "   Type  Alcohol  Malic   Ash  Alcalinity  Magnesium  Phenols  Flavanoids  \\\n",
       "0     1    14.23   1.71  2.43        15.6        127     2.80        3.06   \n",
       "1     1    13.20   1.78  2.14        11.2        100     2.65        2.76   \n",
       "2     1    13.16   2.36  2.67        18.6        101     2.80        3.24   \n",
       "3     1    14.37   1.95  2.50        16.8        113     3.85        3.49   \n",
       "4     1    13.24   2.59  2.87        21.0        118     2.80        2.69   \n",
       "\n",
       "   Nonflavanoids  Proanthocyanins  Color   Hue  Dilution  Proline  \n",
       "0           0.28             2.29   5.64  1.04      3.92     1065  \n",
       "1           0.26             1.28   4.38  1.05      3.40     1050  \n",
       "2           0.30             2.81   5.68  1.03      3.17     1185  \n",
       "3           0.24             2.18   7.80  0.86      3.45     1480  \n",
       "4           0.39             1.82   4.32  1.04      2.93      735  "
      ]
     },
     "execution_count": 2,
     "metadata": {},
     "output_type": "execute_result"
    }
   ],
   "source": [
    "data=pd.read_csv(\"wine.csv\")\n",
    "data.head()"
   ]
  },
  {
   "cell_type": "code",
   "execution_count": 3,
   "metadata": {},
   "outputs": [
    {
     "data": {
      "text/html": [
       "<div>\n",
       "<style scoped>\n",
       "    .dataframe tbody tr th:only-of-type {\n",
       "        vertical-align: middle;\n",
       "    }\n",
       "\n",
       "    .dataframe tbody tr th {\n",
       "        vertical-align: top;\n",
       "    }\n",
       "\n",
       "    .dataframe thead th {\n",
       "        text-align: right;\n",
       "    }\n",
       "</style>\n",
       "<table border=\"1\" class=\"dataframe\">\n",
       "  <thead>\n",
       "    <tr style=\"text-align: right;\">\n",
       "      <th></th>\n",
       "      <th>Type</th>\n",
       "      <th>Alcohol</th>\n",
       "      <th>Malic</th>\n",
       "      <th>Ash</th>\n",
       "      <th>Alcalinity</th>\n",
       "      <th>Magnesium</th>\n",
       "      <th>Phenols</th>\n",
       "      <th>Flavanoids</th>\n",
       "      <th>Nonflavanoids</th>\n",
       "      <th>Proanthocyanins</th>\n",
       "      <th>Color</th>\n",
       "      <th>Hue</th>\n",
       "      <th>Dilution</th>\n",
       "      <th>Proline</th>\n",
       "    </tr>\n",
       "  </thead>\n",
       "  <tbody>\n",
       "    <tr>\n",
       "      <th>count</th>\n",
       "      <td>178.000000</td>\n",
       "      <td>178.000000</td>\n",
       "      <td>178.000000</td>\n",
       "      <td>178.000000</td>\n",
       "      <td>178.000000</td>\n",
       "      <td>178.000000</td>\n",
       "      <td>178.000000</td>\n",
       "      <td>178.000000</td>\n",
       "      <td>178.000000</td>\n",
       "      <td>178.000000</td>\n",
       "      <td>178.000000</td>\n",
       "      <td>178.000000</td>\n",
       "      <td>178.000000</td>\n",
       "      <td>178.000000</td>\n",
       "    </tr>\n",
       "    <tr>\n",
       "      <th>mean</th>\n",
       "      <td>1.938202</td>\n",
       "      <td>13.000618</td>\n",
       "      <td>2.336348</td>\n",
       "      <td>2.366517</td>\n",
       "      <td>19.494944</td>\n",
       "      <td>99.741573</td>\n",
       "      <td>2.295112</td>\n",
       "      <td>2.029270</td>\n",
       "      <td>0.361854</td>\n",
       "      <td>1.590899</td>\n",
       "      <td>5.058090</td>\n",
       "      <td>0.957449</td>\n",
       "      <td>2.611685</td>\n",
       "      <td>746.893258</td>\n",
       "    </tr>\n",
       "    <tr>\n",
       "      <th>std</th>\n",
       "      <td>0.775035</td>\n",
       "      <td>0.811827</td>\n",
       "      <td>1.117146</td>\n",
       "      <td>0.274344</td>\n",
       "      <td>3.339564</td>\n",
       "      <td>14.282484</td>\n",
       "      <td>0.625851</td>\n",
       "      <td>0.998859</td>\n",
       "      <td>0.124453</td>\n",
       "      <td>0.572359</td>\n",
       "      <td>2.318286</td>\n",
       "      <td>0.228572</td>\n",
       "      <td>0.709990</td>\n",
       "      <td>314.907474</td>\n",
       "    </tr>\n",
       "    <tr>\n",
       "      <th>min</th>\n",
       "      <td>1.000000</td>\n",
       "      <td>11.030000</td>\n",
       "      <td>0.740000</td>\n",
       "      <td>1.360000</td>\n",
       "      <td>10.600000</td>\n",
       "      <td>70.000000</td>\n",
       "      <td>0.980000</td>\n",
       "      <td>0.340000</td>\n",
       "      <td>0.130000</td>\n",
       "      <td>0.410000</td>\n",
       "      <td>1.280000</td>\n",
       "      <td>0.480000</td>\n",
       "      <td>1.270000</td>\n",
       "      <td>278.000000</td>\n",
       "    </tr>\n",
       "    <tr>\n",
       "      <th>25%</th>\n",
       "      <td>1.000000</td>\n",
       "      <td>12.362500</td>\n",
       "      <td>1.602500</td>\n",
       "      <td>2.210000</td>\n",
       "      <td>17.200000</td>\n",
       "      <td>88.000000</td>\n",
       "      <td>1.742500</td>\n",
       "      <td>1.205000</td>\n",
       "      <td>0.270000</td>\n",
       "      <td>1.250000</td>\n",
       "      <td>3.220000</td>\n",
       "      <td>0.782500</td>\n",
       "      <td>1.937500</td>\n",
       "      <td>500.500000</td>\n",
       "    </tr>\n",
       "    <tr>\n",
       "      <th>50%</th>\n",
       "      <td>2.000000</td>\n",
       "      <td>13.050000</td>\n",
       "      <td>1.865000</td>\n",
       "      <td>2.360000</td>\n",
       "      <td>19.500000</td>\n",
       "      <td>98.000000</td>\n",
       "      <td>2.355000</td>\n",
       "      <td>2.135000</td>\n",
       "      <td>0.340000</td>\n",
       "      <td>1.555000</td>\n",
       "      <td>4.690000</td>\n",
       "      <td>0.965000</td>\n",
       "      <td>2.780000</td>\n",
       "      <td>673.500000</td>\n",
       "    </tr>\n",
       "    <tr>\n",
       "      <th>75%</th>\n",
       "      <td>3.000000</td>\n",
       "      <td>13.677500</td>\n",
       "      <td>3.082500</td>\n",
       "      <td>2.557500</td>\n",
       "      <td>21.500000</td>\n",
       "      <td>107.000000</td>\n",
       "      <td>2.800000</td>\n",
       "      <td>2.875000</td>\n",
       "      <td>0.437500</td>\n",
       "      <td>1.950000</td>\n",
       "      <td>6.200000</td>\n",
       "      <td>1.120000</td>\n",
       "      <td>3.170000</td>\n",
       "      <td>985.000000</td>\n",
       "    </tr>\n",
       "    <tr>\n",
       "      <th>max</th>\n",
       "      <td>3.000000</td>\n",
       "      <td>14.830000</td>\n",
       "      <td>5.800000</td>\n",
       "      <td>3.230000</td>\n",
       "      <td>30.000000</td>\n",
       "      <td>162.000000</td>\n",
       "      <td>3.880000</td>\n",
       "      <td>5.080000</td>\n",
       "      <td>0.660000</td>\n",
       "      <td>3.580000</td>\n",
       "      <td>13.000000</td>\n",
       "      <td>1.710000</td>\n",
       "      <td>4.000000</td>\n",
       "      <td>1680.000000</td>\n",
       "    </tr>\n",
       "  </tbody>\n",
       "</table>\n",
       "</div>"
      ],
      "text/plain": [
       "             Type     Alcohol       Malic         Ash  Alcalinity   Magnesium  \\\n",
       "count  178.000000  178.000000  178.000000  178.000000  178.000000  178.000000   \n",
       "mean     1.938202   13.000618    2.336348    2.366517   19.494944   99.741573   \n",
       "std      0.775035    0.811827    1.117146    0.274344    3.339564   14.282484   \n",
       "min      1.000000   11.030000    0.740000    1.360000   10.600000   70.000000   \n",
       "25%      1.000000   12.362500    1.602500    2.210000   17.200000   88.000000   \n",
       "50%      2.000000   13.050000    1.865000    2.360000   19.500000   98.000000   \n",
       "75%      3.000000   13.677500    3.082500    2.557500   21.500000  107.000000   \n",
       "max      3.000000   14.830000    5.800000    3.230000   30.000000  162.000000   \n",
       "\n",
       "          Phenols  Flavanoids  Nonflavanoids  Proanthocyanins       Color  \\\n",
       "count  178.000000  178.000000     178.000000       178.000000  178.000000   \n",
       "mean     2.295112    2.029270       0.361854         1.590899    5.058090   \n",
       "std      0.625851    0.998859       0.124453         0.572359    2.318286   \n",
       "min      0.980000    0.340000       0.130000         0.410000    1.280000   \n",
       "25%      1.742500    1.205000       0.270000         1.250000    3.220000   \n",
       "50%      2.355000    2.135000       0.340000         1.555000    4.690000   \n",
       "75%      2.800000    2.875000       0.437500         1.950000    6.200000   \n",
       "max      3.880000    5.080000       0.660000         3.580000   13.000000   \n",
       "\n",
       "              Hue    Dilution      Proline  \n",
       "count  178.000000  178.000000   178.000000  \n",
       "mean     0.957449    2.611685   746.893258  \n",
       "std      0.228572    0.709990   314.907474  \n",
       "min      0.480000    1.270000   278.000000  \n",
       "25%      0.782500    1.937500   500.500000  \n",
       "50%      0.965000    2.780000   673.500000  \n",
       "75%      1.120000    3.170000   985.000000  \n",
       "max      1.710000    4.000000  1680.000000  "
      ]
     },
     "execution_count": 3,
     "metadata": {},
     "output_type": "execute_result"
    }
   ],
   "source": [
    "#describng the data\n",
    "data.describe()"
   ]
  },
  {
   "cell_type": "code",
   "execution_count": 4,
   "metadata": {},
   "outputs": [
    {
     "name": "stdout",
     "output_type": "stream",
     "text": [
      "<class 'pandas.core.frame.DataFrame'>\n",
      "RangeIndex: 178 entries, 0 to 177\n",
      "Data columns (total 14 columns):\n",
      " #   Column           Non-Null Count  Dtype  \n",
      "---  ------           --------------  -----  \n",
      " 0   Type             178 non-null    int64  \n",
      " 1   Alcohol          178 non-null    float64\n",
      " 2   Malic            178 non-null    float64\n",
      " 3   Ash              178 non-null    float64\n",
      " 4   Alcalinity       178 non-null    float64\n",
      " 5   Magnesium        178 non-null    int64  \n",
      " 6   Phenols          178 non-null    float64\n",
      " 7   Flavanoids       178 non-null    float64\n",
      " 8   Nonflavanoids    178 non-null    float64\n",
      " 9   Proanthocyanins  178 non-null    float64\n",
      " 10  Color            178 non-null    float64\n",
      " 11  Hue              178 non-null    float64\n",
      " 12  Dilution         178 non-null    float64\n",
      " 13  Proline          178 non-null    int64  \n",
      "dtypes: float64(11), int64(3)\n",
      "memory usage: 19.6 KB\n"
     ]
    }
   ],
   "source": [
    "#datatypes of the column\n",
    "data.info()"
   ]
  },
  {
   "cell_type": "code",
   "execution_count": 5,
   "metadata": {},
   "outputs": [
    {
     "data": {
      "text/plain": [
       "array([[1.000e+00, 1.423e+01, 1.710e+00, ..., 1.040e+00, 3.920e+00,\n",
       "        1.065e+03],\n",
       "       [1.000e+00, 1.320e+01, 1.780e+00, ..., 1.050e+00, 3.400e+00,\n",
       "        1.050e+03],\n",
       "       [1.000e+00, 1.316e+01, 2.360e+00, ..., 1.030e+00, 3.170e+00,\n",
       "        1.185e+03],\n",
       "       ...,\n",
       "       [3.000e+00, 1.327e+01, 4.280e+00, ..., 5.900e-01, 1.560e+00,\n",
       "        8.350e+02],\n",
       "       [3.000e+00, 1.317e+01, 2.590e+00, ..., 6.000e-01, 1.620e+00,\n",
       "        8.400e+02],\n",
       "       [3.000e+00, 1.413e+01, 4.100e+00, ..., 6.100e-01, 1.600e+00,\n",
       "        5.600e+02]])"
      ]
     },
     "execution_count": 5,
     "metadata": {},
     "output_type": "execute_result"
    }
   ],
   "source": [
    "# Converting into numpy array values\n",
    "df=data.values\n",
    "df"
   ]
  },
  {
   "cell_type": "code",
   "execution_count": 6,
   "metadata": {},
   "outputs": [],
   "source": [
    "\n",
    "# Normalizing the numerical data \n",
    "df_normal = scale(df)"
   ]
  },
  {
   "cell_type": "code",
   "execution_count": 7,
   "metadata": {},
   "outputs": [
    {
     "data": {
      "text/plain": [
       "array([[-1.21394365,  1.51861254, -0.5622498 , ...,  0.36217728,\n",
       "         1.84791957,  1.01300893],\n",
       "       [-1.21394365,  0.24628963, -0.49941338, ...,  0.40605066,\n",
       "         1.1134493 ,  0.96524152],\n",
       "       [-1.21394365,  0.19687903,  0.02123125, ...,  0.31830389,\n",
       "         0.78858745,  1.39514818],\n",
       "       ...,\n",
       "       [ 1.37386437,  0.33275817,  1.74474449, ..., -1.61212515,\n",
       "        -1.48544548,  0.28057537],\n",
       "       [ 1.37386437,  0.20923168,  0.22769377, ..., -1.56825176,\n",
       "        -1.40069891,  0.29649784],\n",
       "       [ 1.37386437,  1.39508604,  1.58316512, ..., -1.52437837,\n",
       "        -1.42894777, -0.59516041]])"
      ]
     },
     "execution_count": 7,
     "metadata": {},
     "output_type": "execute_result"
    }
   ],
   "source": [
    "df_normal"
   ]
  },
  {
   "cell_type": "code",
   "execution_count": 8,
   "metadata": {},
   "outputs": [],
   "source": [
    "#building PCA model\n",
    "pca = PCA()\n",
    "pca_values = pca.fit_transform(df_normal)"
   ]
  },
  {
   "cell_type": "code",
   "execution_count": 9,
   "metadata": {},
   "outputs": [
    {
     "data": {
      "text/plain": [
       "array([[-3.52293390e+00, -1.45309844e+00, -1.64795488e-01, ...,\n",
       "         5.52927766e-01, -3.02978176e-01,  2.00857450e-01],\n",
       "       [-2.52885806e+00,  3.30019252e-01, -2.02670665e+00, ...,\n",
       "         3.94971160e-01, -1.46645308e-01,  1.26402355e-01],\n",
       "       [-2.78502898e+00, -1.03693595e+00,  9.83237703e-01, ...,\n",
       "         1.89799314e-03,  2.12780166e-02, -5.57515155e-02],\n",
       "       ...,\n",
       "       [ 3.02727243e+00, -2.75604024e+00, -9.40803036e-01, ...,\n",
       "         6.93336340e-01,  1.67035660e-01, -3.16957430e-02],\n",
       "       [ 2.75522166e+00, -2.29378408e+00, -5.50473677e-01, ...,\n",
       "         3.44119826e-01, -1.09514873e-01,  1.02823104e-01],\n",
       "       [ 3.49633565e+00, -2.76060799e+00,  1.01315115e+00, ...,\n",
       "        -1.89866131e-01, -1.64090011e-01, -2.64916504e-01]])"
      ]
     },
     "execution_count": 9,
     "metadata": {},
     "output_type": "execute_result"
    }
   ],
   "source": [
    "\n",
    "pca_values"
   ]
  },
  {
   "cell_type": "code",
   "execution_count": 10,
   "metadata": {},
   "outputs": [],
   "source": [
    "pca = PCA(n_components = 5)\n",
    "pca_values = pca.fit_transform(df_normal)"
   ]
  },
  {
   "cell_type": "code",
   "execution_count": 11,
   "metadata": {},
   "outputs": [
    {
     "data": {
      "text/plain": [
       "array([0.39542486, 0.17836259, 0.10329102, 0.06627984, 0.06267875])"
      ]
     },
     "execution_count": 11,
     "metadata": {},
     "output_type": "execute_result"
    }
   ],
   "source": [
    "# The amount of variance that each PCA explains is \n",
    "var = pca.explained_variance_ratio_\n",
    "var"
   ]
  },
  {
   "cell_type": "code",
   "execution_count": 12,
   "metadata": {},
   "outputs": [
    {
     "data": {
      "text/plain": [
       "array([39.5425, 57.3788, 67.7079, 74.3359, 80.6038])"
      ]
     },
     "execution_count": 12,
     "metadata": {},
     "output_type": "execute_result"
    }
   ],
   "source": [
    "# Cumulative variance \n",
    "var1 = np.cumsum(np.round(var,decimals = 6)*100)\n",
    "var1"
   ]
  },
  {
   "cell_type": "code",
   "execution_count": 13,
   "metadata": {},
   "outputs": [
    {
     "data": {
      "text/plain": [
       "array([[ 0.39366953, -0.13632501,  0.22267638, -0.00225793,  0.22429849,\n",
       "        -0.12463016, -0.35926404, -0.39071171,  0.2670012 , -0.2790625 ,\n",
       "         0.08931829, -0.27682265, -0.35052618, -0.26951525],\n",
       "       [-0.00569041, -0.48416087, -0.22359095, -0.31585588,  0.01161574,\n",
       "        -0.30055143, -0.06711983,  0.00131345, -0.0269887 , -0.04122256,\n",
       "        -0.52978274,  0.27790735,  0.16277625, -0.36605886],\n",
       "       [ 0.00121795, -0.20740081,  0.08879606,  0.62610236,  0.6119896 ,\n",
       "         0.13098458,  0.14650775,  0.15096275,  0.16997551,  0.14987959,\n",
       "        -0.1372663 ,  0.08532854,  0.16620436, -0.12668685],\n",
       "       [ 0.12246373, -0.08191848,  0.46988824, -0.24984122,  0.07199322,\n",
       "        -0.16321412,  0.19098521,  0.14461667, -0.32801272,  0.46275771,\n",
       "         0.07211248, -0.43466618,  0.15672341, -0.2557949 ],\n",
       "       [ 0.15758395, -0.25089415, -0.18860015, -0.0935236 ,  0.0465675 ,\n",
       "         0.77833048, -0.14466563, -0.11200553, -0.43257916,  0.0915882 ,\n",
       "        -0.0462696 , -0.02986657, -0.14419358, -0.08440794]])"
      ]
     },
     "execution_count": 13,
     "metadata": {},
     "output_type": "execute_result"
    }
   ],
   "source": [
    "pca.components_"
   ]
  },
  {
   "cell_type": "code",
   "execution_count": 14,
   "metadata": {},
   "outputs": [
    {
     "data": {
      "text/plain": [
       "[<matplotlib.lines.Line2D at 0x1e0f9567bb0>]"
      ]
     },
     "execution_count": 14,
     "metadata": {},
     "output_type": "execute_result"
    },
    {
     "data": {
      "image/png": "[encoded data removed]",
      "text/plain": [
       "<Figure size 432x288 with 1 Axes>"
      ]
     },
     "metadata": {
      "needs_background": "light"
     },
     "output_type": "display_data"
    }
   ],
   "source": [
    "# Variance plot for PCA components obtained \n",
    "plt.plot(var1,color=\"blue\")"
   ]
  },
  {
   "cell_type": "code",
   "execution_count": 15,
   "metadata": {},
   "outputs": [
    {
     "data": {
      "text/plain": [
       "array([[-3.52293390e+00, -1.45309844e+00, -1.64795488e-01],\n",
       "       [-2.52885806e+00,  3.30019252e-01, -2.02670665e+00],\n",
       "       [-2.78502898e+00, -1.03693595e+00,  9.83237703e-01],\n",
       "       [-3.92258841e+00, -2.76821026e+00, -1.74968168e-01],\n",
       "       [-1.40751111e+00, -8.67773087e-01,  2.02582949e+00],\n",
       "       [-3.28812981e+00, -2.13017513e+00, -6.28992339e-01],\n",
       "       [-2.75057754e+00, -1.17916999e+00, -9.77337471e-01],\n",
       "       [-2.39286652e+00, -1.61128232e+00,  1.45729462e-01],\n",
       "       [-2.79525633e+00, -9.23179517e-01, -1.77092548e+00],\n",
       "       [-3.00559666e+00, -7.96284169e-01, -9.83741629e-01],\n",
       "       [-3.67868855e+00, -1.31252342e+00, -4.21854170e-01],\n",
       "       [-2.10963477e+00, -6.12981986e-01, -1.19156995e+00],\n",
       "       [-2.43845636e+00, -6.78523310e-01, -8.65513701e-01],\n",
       "       [-3.67349453e+00, -1.14012136e+00, -1.20376870e+00],\n",
       "       [-4.44157575e+00, -2.11031917e+00, -1.26245041e+00],\n",
       "       [-2.60892387e+00, -1.66641801e+00,  2.17632760e-01],\n",
       "       [-2.47542846e+00, -2.33089672e+00,  8.31602071e-01],\n",
       "       [-2.22623243e+00, -1.63359016e+00,  7.94557947e-01],\n",
       "       [-3.74226929e+00, -2.52840527e+00, -4.84832351e-01],\n",
       "       [-2.39441150e+00, -1.06452946e+00, -1.64711761e-01],\n",
       "       [-3.33656895e+00, -7.96012794e-01, -3.63852323e-01],\n",
       "       [-1.48140399e+00, -2.40085474e-01,  9.36230971e-01],\n",
       "       [-2.82806867e+00,  8.68575524e-02, -3.11966722e-01],\n",
       "       [-2.00771405e+00,  5.15616487e-01,  1.43253973e-01],\n",
       "       [-2.11463604e+00,  3.15920569e-01,  8.89723442e-01],\n",
       "       [-1.39753751e+00, -9.38215285e-01,  3.81984245e+00],\n",
       "       [-2.13348803e+00, -6.87102046e-01, -8.74580629e-02],\n",
       "       [-1.62970383e+00,  9.11840303e-02, -1.38781727e+00],\n",
       "       [-2.50760753e+00, -6.92749833e-01,  1.39417153e+00],\n",
       "       [-2.55948318e+00, -1.95472900e-01, -1.09267935e+00],\n",
       "       [-2.77244452e+00, -1.24635279e+00,  1.38625548e+00],\n",
       "       [-2.93513374e+00, -1.47827883e+00, -3.31852675e-01],\n",
       "       [-1.99124842e+00, -5.32520145e-02, -1.67814766e-01],\n",
       "       [-2.24570987e+00, -1.63466910e+00,  1.17138376e+00],\n",
       "       [-1.78698628e+00, -6.97480386e-01,  4.78958711e-01],\n",
       "       [-2.22763867e+00, -1.79288919e-01,  4.50723842e-01],\n",
       "       [-1.76802847e+00, -6.57872308e-01,  4.57519616e-01],\n",
       "       [-1.52317798e+00, -1.12225053e-01, -4.01116946e-02],\n",
       "       [-1.87236494e+00,  7.69305759e-01, -1.42681925e+00],\n",
       "       [-2.79711434e+00, -1.80880887e+00, -3.42657071e-01],\n",
       "       [-2.84093569e+00, -7.86161567e-01, -1.17781870e-01],\n",
       "       [-1.10557210e+00, -1.65884925e-01, -7.84568985e-01],\n",
       "       [-3.30689482e+00, -1.16395547e+00, -3.12199951e-01],\n",
       "       [-9.04798423e-01, -3.26072432e-01, -2.02584244e-01],\n",
       "       [-2.39683569e+00,  6.69059447e-02, -6.55487425e-01],\n",
       "       [-1.53781235e+00, -1.77507765e+00,  2.76685888e-02],\n",
       "       [-2.99121644e+00, -1.19762255e+00, -5.39465841e-01],\n",
       "       [-3.05931631e+00, -6.53821958e-01, -1.15475795e+00],\n",
       "       [-2.31877146e+00, -1.25023668e+00, -5.72980142e-02],\n",
       "       [-2.95947229e+00, -1.75860365e+00, -6.42655624e-01],\n",
       "       [-3.41218130e+00, -1.76915806e-01, -1.97228204e+00],\n",
       "       [-3.11637827e+00, -7.52108734e-01,  4.99813751e-03],\n",
       "       [-3.70021113e+00, -1.62309187e+00, -5.19868451e-01],\n",
       "       [-2.53754828e+00, -1.87852793e+00,  3.39182163e-01],\n",
       "       [-2.44478924e+00, -1.02071516e+00, -9.57570940e-01],\n",
       "       [-2.72281451e+00, -1.33524369e+00,  5.14188852e-01],\n",
       "       [-2.98531677e+00, -1.44363759e+00, -6.11793476e-01],\n",
       "       [-2.48814690e+00, -1.21549250e+00,  2.61493332e-01],\n",
       "       [-3.35128665e+00, -1.74060283e+00, -2.84735130e-01],\n",
       "       [ 8.74925041e-01,  3.07772383e+00, -4.58564619e+00],\n",
       "       [ 1.41466076e+00,  1.38995420e+00, -8.76470824e-01],\n",
       "       [ 1.71387916e+00,  8.38856075e-01, -1.60707177e+00],\n",
       "       [-1.22968607e-02,  1.26269589e+00, -1.78460521e+00],\n",
       "       [-1.83310122e+00,  1.91338608e+00, -5.30878166e-03],\n",
       "       [ 5.74535949e-01,  1.91115097e+00,  6.78679017e-01],\n",
       "       [-7.91471156e-01,  7.58725519e-01,  5.74195746e-01],\n",
       "       [-2.02003148e+00,  1.87213142e+00, -2.02970053e+00],\n",
       "       [-1.43280980e-01,  2.42575691e+00, -1.06951469e+00],\n",
       "       [ 7.51507665e-01,  2.25209017e-01, -7.08153727e-01],\n",
       "       [-1.74032573e+00,  1.39100815e+00, -1.23560112e+00],\n",
       "       [ 1.47630041e+00,  8.92248586e-01, -6.29942735e-01],\n",
       "       [-1.49197779e+00,  9.47927081e-01,  1.95383697e+00],\n",
       "       [ 6.93966859e-01,  1.06686332e+00,  7.98642383e-02],\n",
       "       [-2.29945716e+00, -2.74358507e-01,  3.37681721e+00],\n",
       "       [-1.63413138e+00,  1.27738980e+00,  4.60188129e-01],\n",
       "       [ 8.28999321e-01,  2.44770579e+00, -1.56370418e+00],\n",
       "       [-3.00431755e-01,  2.15106456e+00, -2.44873945e+00],\n",
       "       [ 1.36117820e+00,  1.39034627e+00, -2.28302697e-01],\n",
       "       [-1.09604852e+00,  7.62642821e-01, -1.18237277e+00],\n",
       "       [-3.19219739e-01,  1.02477043e+00,  1.79482091e+00],\n",
       "       [-6.71257572e-01,  3.37052496e+00, -3.56702471e-01],\n",
       "       [-9.24110908e-01,  1.44510662e+00, -3.62167941e-01],\n",
       "       [ 4.67492044e-01,  2.38376557e+00,  1.33514108e+00],\n",
       "       [ 2.35241675e+00,  1.00139963e-01,  4.72254334e-01],\n",
       "       [-7.18223250e-01,  1.46811394e+00,  6.11344419e-01],\n",
       "       [-6.98296042e-01,  2.02223417e+00, -2.54062359e-01],\n",
       "       [ 7.64574393e-01,  2.23750414e+00,  7.72269731e-01],\n",
       "       [ 5.28249229e-01,  2.37569723e+00,  2.30704770e+00],\n",
       "       [ 1.03785507e+00,  1.80786799e+00,  9.58261132e-01],\n",
       "       [ 5.21424250e-01,  2.66038386e+00,  8.48509316e-01],\n",
       "       [ 1.25335859e+00,  2.12475639e+00, -4.88018728e-02],\n",
       "       [ 1.46070926e+00,  1.85969940e+00,  7.79936252e-01],\n",
       "       [ 1.79124629e+00,  1.56916323e+00, -9.08620809e-02],\n",
       "       [-6.53304282e-01,  2.30839297e+00,  1.15558436e-01],\n",
       "       [-8.36145100e-01,  2.21754888e+00,  1.43652590e-01],\n",
       "       [-2.26060732e+00, -1.84286370e-01,  7.91707831e-01],\n",
       "       [ 5.55472828e-01,  3.70127327e-01,  1.30923904e+00],\n",
       "       [-9.14996505e-01,  2.55963934e+00, -1.08537095e+00],\n",
       "       [-2.02098347e+00,  1.42022041e+00, -2.28051484e-01],\n",
       "       [-1.26542677e+00,  2.15848251e+00,  7.50129033e-01],\n",
       "       [-7.01432286e-01,  2.37221592e+00, -1.56724534e+00],\n",
       "       [ 5.30869785e-01,  2.29535505e+00, -1.49917094e+00],\n",
       "       [ 1.76156718e-01,  1.16479003e+00,  1.00376103e+00],\n",
       "       [ 6.42741969e-01,  2.68228953e+00, -7.65006369e-01],\n",
       "       [-3.37706143e-01,  2.09639668e+00, -4.71487650e-01],\n",
       "       [ 1.63721155e+00,  1.72636425e+00,  9.45499540e-01],\n",
       "       [ 3.58772642e-01,  2.17081862e+00, -4.81516548e-01],\n",
       "       [ 1.51311874e+00,  1.36335628e+00,  2.86009689e-01],\n",
       "       [-3.00962570e-02,  2.30450774e+00, -4.62917472e-01],\n",
       "       [-1.40940236e+00,  1.45311158e+00,  1.78122564e+00],\n",
       "       [-1.21824444e+00,  1.40819282e+00,  1.41869305e-01],\n",
       "       [ 2.88314619e-01,  1.93122641e+00,  7.87556331e-02],\n",
       "       [ 1.19609762e+00,  7.70442623e-01,  1.99805177e+00],\n",
       "       [ 4.51618189e-01,  2.27100706e+00,  1.06117891e+00],\n",
       "       [ 4.71838856e-01,  1.94138119e+00,  1.32347951e+00],\n",
       "       [-4.23399090e-01,  3.86899361e+00,  1.34460234e+00],\n",
       "       [ 2.64376527e-01,  2.82191608e+00, -3.02473757e-01],\n",
       "       [ 1.37458466e-01,  1.92845353e+00,  6.90492491e-01],\n",
       "       [ 2.25047663e+00,  1.26932529e+00, -1.90489729e+00],\n",
       "       [ 5.30744984e-01,  2.22441680e+00, -3.56421002e-01],\n",
       "       [-6.41287353e-01,  1.40431272e+00,  1.12630356e+00],\n",
       "       [-1.18436691e+00, -2.60957397e-01,  5.34669930e+00],\n",
       "       [ 1.10694195e+00,  6.69497002e-01,  3.00946264e+00],\n",
       "       [ 4.58647944e-01,  6.19888485e-01,  4.83469394e-01],\n",
       "       [-8.46107223e-01,  1.43910880e+00,  1.48276882e+00],\n",
       "       [ 1.16536718e-01,  2.10990355e+00,  4.34953692e-01],\n",
       "       [ 7.08670000e-03,  1.26551112e+00,  6.88045285e-01],\n",
       "       [ 1.49530863e+00,  1.21567945e+00,  3.36006477e+00],\n",
       "       [ 4.78601694e-01,  1.94027835e+00,  1.29653977e+00],\n",
       "       [ 1.66414462e+00,  1.15919147e+00,  7.81438229e-01],\n",
       "       [ 1.77894554e+00, -1.72314762e-01, -1.17886945e+00],\n",
       "       [ 2.74191892e+00, -3.70857245e-01, -7.23641101e-01],\n",
       "       [ 3.25429697e+00, -2.57563459e-01, -1.67783428e-01],\n",
       "       [ 2.53036635e+00, -3.65988657e-01, -4.52793591e-01],\n",
       "       [ 2.71302437e+00,  4.63874135e-01, -1.10162252e+00],\n",
       "       [ 3.34898858e+00, -3.45562159e-01, -1.09990369e+00],\n",
       "       [ 4.11716696e+00, -1.41973079e-01,  2.20219652e-01],\n",
       "       [ 4.14412844e+00, -6.47213236e-01,  1.71069802e+00],\n",
       "       [ 3.36592550e+00, -3.40410644e-01, -1.02784757e+00],\n",
       "       [ 2.71267678e+00, -2.87464382e-01,  1.24156157e+00],\n",
       "       [ 3.07164523e+00, -2.79805941e-01,  6.08807930e-01],\n",
       "       [ 2.62614546e+00, -3.68232871e-01, -9.71981338e-01],\n",
       "       [ 3.26039672e+00, -4.81090804e-01,  9.45869411e-01],\n",
       "       [ 2.70404699e+00, -4.77459848e-01, -2.53362189e-01],\n",
       "       [ 2.59084775e+00, -1.15749987e+00, -1.24462312e+00],\n",
       "       [ 2.95401110e+00, -5.57851499e-01, -8.56141264e-01],\n",
       "       [ 4.45995006e+00, -6.35479008e-01, -1.45991022e+00],\n",
       "       [ 3.82924957e+00, -1.26232962e+00, -1.11849762e-01],\n",
       "       [ 3.13365001e+00, -1.56464614e+00, -4.72735778e-01],\n",
       "       [ 3.23471410e+00, -2.03532443e+00, -4.95850787e-01],\n",
       "       [ 2.71256472e+00, -2.35387960e+00,  4.38394136e-01],\n",
       "       [ 2.93094044e+00, -2.04198353e+00, -3.11553350e-01],\n",
       "       [ 2.25057425e+00, -1.52795614e+00,  1.36375981e+00],\n",
       "       [ 3.09752033e+00, -2.13348176e+00, -9.64702506e-01],\n",
       "       [ 3.07705567e+00, -4.04790975e-01, -1.19032620e+00],\n",
       "       [ 3.85615824e+00, -1.79208943e+00, -9.50222792e-02],\n",
       "       [ 3.20838842e+00, -1.91882788e+00, -7.82626281e-01],\n",
       "       [ 3.65849417e+00, -1.30258082e+00,  1.60108960e+00],\n",
       "       [ 1.55298183e+00, -3.51909311e+00,  1.16159677e+00],\n",
       "       [ 2.05828389e+00, -2.40754610e+00,  5.49571767e-01],\n",
       "       [ 3.43854934e+00, -7.30543243e-01, -9.14691325e-02],\n",
       "       [ 2.58448815e+00, -1.17132839e+00, -1.01780000e-01],\n",
       "       [ 3.14445722e+00, -5.49035841e-01,  8.03473957e-01],\n",
       "       [ 2.92529398e+00, -6.92656844e-01, -8.85187512e-01],\n",
       "       [ 3.26182677e+00, -1.54859057e+00, -9.83800479e-01],\n",
       "       [ 3.77758717e+00, -8.72311546e-01, -4.67133500e-01],\n",
       "       [ 2.77463925e+00, -2.58870465e+00,  4.28405575e-01],\n",
       "       [ 3.24261618e+00, -1.26784789e+00, -1.21371523e+00],\n",
       "       [ 2.56374375e+00, -2.07490927e+00,  7.64076543e-01],\n",
       "       [ 2.74872948e+00, -2.58508204e+00,  1.41826706e+00],\n",
       "       [ 3.49119620e+00,  2.59460201e-01, -8.47741922e-01],\n",
       "       [ 3.92913440e+00, -8.37386028e-01, -1.34034780e+00],\n",
       "       [ 2.81529547e+00, -2.18933614e+00, -9.18927443e-01],\n",
       "       [ 3.62799620e+00, -2.20661701e+00, -3.43667668e-01],\n",
       "       [ 2.94272922e+00, -1.75226320e+00,  2.07479744e-01],\n",
       "       [ 3.02727243e+00, -2.75604024e+00, -9.40803036e-01],\n",
       "       [ 2.75522166e+00, -2.29378408e+00, -5.50473677e-01],\n",
       "       [ 3.49633565e+00, -2.76060799e+00,  1.01315115e+00]])"
      ]
     },
     "execution_count": 15,
     "metadata": {},
     "output_type": "execute_result"
    }
   ],
   "source": [
    "pca_values[:,0:3]"
   ]
  },
  {
   "cell_type": "code",
   "execution_count": 16,
   "metadata": {},
   "outputs": [
    {
     "data": {
      "text/plain": [
       "<matplotlib.collections.PathCollection at 0x1e0f965ca60>"
      ]
     },
     "execution_count": 16,
     "metadata": {},
     "output_type": "execute_result"
    },
    {
     "data": {
      "image/png": "[encoded data removed]",
      "text/plain": [
       "<Figure size 432x288 with 1 Axes>"
      ]
     },
     "metadata": {
      "needs_background": "light"
     },
     "output_type": "display_data"
    }
   ],
   "source": [
    "# plot between PCA1 and PCA2 \n",
    "x = pca_values[:,0]\n",
    "y = pca_values[:,1]\n",
    "plt.scatter(x,y)"
   ]
  },
  {
   "cell_type": "code",
   "execution_count": 17,
   "metadata": {},
   "outputs": [],
   "source": [
    "finalDf = pd.concat([pd.DataFrame(pca_values[:,0:2],columns=['pc1','pc2']), data[['Type']]], axis = 1)"
   ]
  },
  {
   "cell_type": "code",
   "execution_count": 18,
   "metadata": {},
   "outputs": [
    {
     "data": {
      "text/html": [
       "<div>\n",
       "<style scoped>\n",
       "    .dataframe tbody tr th:only-of-type {\n",
       "        vertical-align: middle;\n",
       "    }\n",
       "\n",
       "    .dataframe tbody tr th {\n",
       "        vertical-align: top;\n",
       "    }\n",
       "\n",
       "    .dataframe thead th {\n",
       "        text-align: right;\n",
       "    }\n",
       "</style>\n",
       "<table border=\"1\" class=\"dataframe\">\n",
       "  <thead>\n",
       "    <tr style=\"text-align: right;\">\n",
       "      <th></th>\n",
       "      <th>pc1</th>\n",
       "      <th>pc2</th>\n",
       "      <th>Type</th>\n",
       "    </tr>\n",
       "  </thead>\n",
       "  <tbody>\n",
       "    <tr>\n",
       "      <th>0</th>\n",
       "      <td>-3.522934</td>\n",
       "      <td>-1.453098</td>\n",
       "      <td>1</td>\n",
       "    </tr>\n",
       "    <tr>\n",
       "      <th>1</th>\n",
       "      <td>-2.528858</td>\n",
       "      <td>0.330019</td>\n",
       "      <td>1</td>\n",
       "    </tr>\n",
       "    <tr>\n",
       "      <th>2</th>\n",
       "      <td>-2.785029</td>\n",
       "      <td>-1.036936</td>\n",
       "      <td>1</td>\n",
       "    </tr>\n",
       "    <tr>\n",
       "      <th>3</th>\n",
       "      <td>-3.922588</td>\n",
       "      <td>-2.768210</td>\n",
       "      <td>1</td>\n",
       "    </tr>\n",
       "    <tr>\n",
       "      <th>4</th>\n",
       "      <td>-1.407511</td>\n",
       "      <td>-0.867773</td>\n",
       "      <td>1</td>\n",
       "    </tr>\n",
       "    <tr>\n",
       "      <th>...</th>\n",
       "      <td>...</td>\n",
       "      <td>...</td>\n",
       "      <td>...</td>\n",
       "    </tr>\n",
       "    <tr>\n",
       "      <th>173</th>\n",
       "      <td>3.627996</td>\n",
       "      <td>-2.206617</td>\n",
       "      <td>3</td>\n",
       "    </tr>\n",
       "    <tr>\n",
       "      <th>174</th>\n",
       "      <td>2.942729</td>\n",
       "      <td>-1.752263</td>\n",
       "      <td>3</td>\n",
       "    </tr>\n",
       "    <tr>\n",
       "      <th>175</th>\n",
       "      <td>3.027272</td>\n",
       "      <td>-2.756040</td>\n",
       "      <td>3</td>\n",
       "    </tr>\n",
       "    <tr>\n",
       "      <th>176</th>\n",
       "      <td>2.755222</td>\n",
       "      <td>-2.293784</td>\n",
       "      <td>3</td>\n",
       "    </tr>\n",
       "    <tr>\n",
       "      <th>177</th>\n",
       "      <td>3.496336</td>\n",
       "      <td>-2.760608</td>\n",
       "      <td>3</td>\n",
       "    </tr>\n",
       "  </tbody>\n",
       "</table>\n",
       "<p>178 rows × 3 columns</p>\n",
       "</div>"
      ],
      "text/plain": [
       "          pc1       pc2  Type\n",
       "0   -3.522934 -1.453098     1\n",
       "1   -2.528858  0.330019     1\n",
       "2   -2.785029 -1.036936     1\n",
       "3   -3.922588 -2.768210     1\n",
       "4   -1.407511 -0.867773     1\n",
       "..        ...       ...   ...\n",
       "173  3.627996 -2.206617     3\n",
       "174  2.942729 -1.752263     3\n",
       "175  3.027272 -2.756040     3\n",
       "176  2.755222 -2.293784     3\n",
       "177  3.496336 -2.760608     3\n",
       "\n",
       "[178 rows x 3 columns]"
      ]
     },
     "execution_count": 18,
     "metadata": {},
     "output_type": "execute_result"
    }
   ],
   "source": [
    "finalDf"
   ]
  },
  {
   "cell_type": "code",
   "execution_count": 19,
   "metadata": {},
   "outputs": [
    {
     "data": {
      "text/plain": [
       "<AxesSubplot:>"
      ]
     },
     "execution_count": 19,
     "metadata": {},
     "output_type": "execute_result"
    },
    {
     "data": {
      "image/png": "[encoded data removed]",
      "text/plain": [
       "<Figure size 432x288 with 1 Axes>"
      ]
     },
     "metadata": {
      "needs_background": "light"
     },
     "output_type": "display_data"
    }
   ],
   "source": [
    "import seaborn as sns\n",
    "sns.scatterplot(data=finalDf,s=30)"
   ]
  },
  {
   "cell_type": "markdown",
   "metadata": {},
   "source": [
    "### building Kmeans cluster"
   ]
  },
  {
   "cell_type": "code",
   "execution_count": 20,
   "metadata": {},
   "outputs": [],
   "source": [
    "# import all required libraries\n",
    "import pandas as pd\n",
    "import matplotlib.pylab as plt\n",
    "from sklearn.cluster import\tKMeans\n",
    "from scipy.spatial.distance import cdist \n",
    "import numpy as np"
   ]
  },
  {
   "cell_type": "code",
   "execution_count": 21,
   "metadata": {},
   "outputs": [],
   "source": [
    "# Clustering  \n",
    "df1 = pd.DataFrame(pca_values[:,0:4])"
   ]
  },
  {
   "cell_type": "code",
   "execution_count": 22,
   "metadata": {},
   "outputs": [
    {
     "data": {
      "text/html": [
       "<div>\n",
       "<style scoped>\n",
       "    .dataframe tbody tr th:only-of-type {\n",
       "        vertical-align: middle;\n",
       "    }\n",
       "\n",
       "    .dataframe tbody tr th {\n",
       "        vertical-align: top;\n",
       "    }\n",
       "\n",
       "    .dataframe thead th {\n",
       "        text-align: right;\n",
       "    }\n",
       "</style>\n",
       "<table border=\"1\" class=\"dataframe\">\n",
       "  <thead>\n",
       "    <tr style=\"text-align: right;\">\n",
       "      <th></th>\n",
       "      <th>0</th>\n",
       "      <th>1</th>\n",
       "      <th>2</th>\n",
       "      <th>3</th>\n",
       "    </tr>\n",
       "  </thead>\n",
       "  <tbody>\n",
       "    <tr>\n",
       "      <th>0</th>\n",
       "      <td>-3.522934</td>\n",
       "      <td>-1.453098</td>\n",
       "      <td>-0.164795</td>\n",
       "      <td>-0.013273</td>\n",
       "    </tr>\n",
       "    <tr>\n",
       "      <th>1</th>\n",
       "      <td>-2.528858</td>\n",
       "      <td>0.330019</td>\n",
       "      <td>-2.026707</td>\n",
       "      <td>-0.417144</td>\n",
       "    </tr>\n",
       "    <tr>\n",
       "      <th>2</th>\n",
       "      <td>-2.785029</td>\n",
       "      <td>-1.036936</td>\n",
       "      <td>0.983238</td>\n",
       "      <td>0.664232</td>\n",
       "    </tr>\n",
       "    <tr>\n",
       "      <th>3</th>\n",
       "      <td>-3.922588</td>\n",
       "      <td>-2.768210</td>\n",
       "      <td>-0.174968</td>\n",
       "      <td>0.565088</td>\n",
       "    </tr>\n",
       "    <tr>\n",
       "      <th>4</th>\n",
       "      <td>-1.407511</td>\n",
       "      <td>-0.867773</td>\n",
       "      <td>2.025829</td>\n",
       "      <td>-0.440906</td>\n",
       "    </tr>\n",
       "    <tr>\n",
       "      <th>...</th>\n",
       "      <td>...</td>\n",
       "      <td>...</td>\n",
       "      <td>...</td>\n",
       "      <td>...</td>\n",
       "    </tr>\n",
       "    <tr>\n",
       "      <th>173</th>\n",
       "      <td>3.627996</td>\n",
       "      <td>-2.206617</td>\n",
       "      <td>-0.343668</td>\n",
       "      <td>0.751705</td>\n",
       "    </tr>\n",
       "    <tr>\n",
       "      <th>174</th>\n",
       "      <td>2.942729</td>\n",
       "      <td>-1.752263</td>\n",
       "      <td>0.207480</td>\n",
       "      <td>0.399381</td>\n",
       "    </tr>\n",
       "    <tr>\n",
       "      <th>175</th>\n",
       "      <td>3.027272</td>\n",
       "      <td>-2.756040</td>\n",
       "      <td>-0.940803</td>\n",
       "      <td>0.607758</td>\n",
       "    </tr>\n",
       "    <tr>\n",
       "      <th>176</th>\n",
       "      <td>2.755222</td>\n",
       "      <td>-2.293784</td>\n",
       "      <td>-0.550474</td>\n",
       "      <td>-0.391570</td>\n",
       "    </tr>\n",
       "    <tr>\n",
       "      <th>177</th>\n",
       "      <td>3.496336</td>\n",
       "      <td>-2.760608</td>\n",
       "      <td>1.013151</td>\n",
       "      <td>0.349630</td>\n",
       "    </tr>\n",
       "  </tbody>\n",
       "</table>\n",
       "<p>178 rows × 4 columns</p>\n",
       "</div>"
      ],
      "text/plain": [
       "            0         1         2         3\n",
       "0   -3.522934 -1.453098 -0.164795 -0.013273\n",
       "1   -2.528858  0.330019 -2.026707 -0.417144\n",
       "2   -2.785029 -1.036936  0.983238  0.664232\n",
       "3   -3.922588 -2.768210 -0.174968  0.565088\n",
       "4   -1.407511 -0.867773  2.025829 -0.440906\n",
       "..        ...       ...       ...       ...\n",
       "173  3.627996 -2.206617 -0.343668  0.751705\n",
       "174  2.942729 -1.752263  0.207480  0.399381\n",
       "175  3.027272 -2.756040 -0.940803  0.607758\n",
       "176  2.755222 -2.293784 -0.550474 -0.391570\n",
       "177  3.496336 -2.760608  1.013151  0.349630\n",
       "\n",
       "[178 rows x 4 columns]"
      ]
     },
     "execution_count": 22,
     "metadata": {},
     "output_type": "execute_result"
    }
   ],
   "source": [
    "df1"
   ]
  },
  {
   "cell_type": "code",
   "execution_count": 23,
   "metadata": {},
   "outputs": [
    {
     "data": {
      "text/plain": [
       "[2, 3, 4, 5, 6, 7, 8, 9, 10, 11, 12, 13, 14]"
      ]
     },
     "execution_count": 23,
     "metadata": {},
     "output_type": "execute_result"
    }
   ],
   "source": [
    "# elbow curve \n",
    "k = list(range(2,15))\n",
    "k"
   ]
  },
  {
   "cell_type": "code",
   "execution_count": 24,
   "metadata": {},
   "outputs": [],
   "source": [
    "TWSS = [] # variable for storing total within sum of squares for each kmeans \n",
    "for i in k:\n",
    "    kmeans = KMeans(n_clusters = i)\n",
    "    kmeans.fit(df1)\n",
    "    WSS = [] # variable for storing within sum of squares for each cluster \n",
    "    for j in range(i):\n",
    "        WSS.append(sum(cdist(df1.iloc[kmeans.labels_==j,:],kmeans.cluster_centers_[j].reshape(1,df1.shape[1]),\"euclidean\")))\n",
    "    TWSS.append(sum(WSS))"
   ]
  },
  {
   "cell_type": "code",
   "execution_count": 25,
   "metadata": {},
   "outputs": [
    {
     "data": {
      "text/plain": [
       "([<matplotlib.axis.XTick at 0x1e0f9c21790>,\n",
       "  <matplotlib.axis.XTick at 0x1e0f9c21760>,\n",
       "  <matplotlib.axis.XTick at 0x1e0f9c202e0>,\n",
       "  <matplotlib.axis.XTick at 0x1e0fa08b250>,\n",
       "  <matplotlib.axis.XTick at 0x1e0fa08b760>,\n",
       "  <matplotlib.axis.XTick at 0x1e0fa08ba60>,\n",
       "  <matplotlib.axis.XTick at 0x1e0fa08be20>,\n",
       "  <matplotlib.axis.XTick at 0x1e0fa092370>,\n",
       "  <matplotlib.axis.XTick at 0x1e0fa092880>,\n",
       "  <matplotlib.axis.XTick at 0x1e0fa092d90>,\n",
       "  <matplotlib.axis.XTick at 0x1e0fa0972e0>,\n",
       "  <matplotlib.axis.XTick at 0x1e0fa0977f0>,\n",
       "  <matplotlib.axis.XTick at 0x1e0fa097d00>],\n",
       " [Text(0, 0, ''),\n",
       "  Text(0, 0, ''),\n",
       "  Text(0, 0, ''),\n",
       "  Text(0, 0, ''),\n",
       "  Text(0, 0, ''),\n",
       "  Text(0, 0, ''),\n",
       "  Text(0, 0, ''),\n",
       "  Text(0, 0, ''),\n",
       "  Text(0, 0, ''),\n",
       "  Text(0, 0, ''),\n",
       "  Text(0, 0, ''),\n",
       "  Text(0, 0, ''),\n",
       "  Text(0, 0, '')])"
      ]
     },
     "execution_count": 25,
     "metadata": {},
     "output_type": "execute_result"
    },
    {
     "data": {
      "image/png": "[encoded data removed]",
      "text/plain": [
       "<Figure size 432x288 with 1 Axes>"
      ]
     },
     "metadata": {
      "needs_background": "light"
     },
     "output_type": "display_data"
    }
   ],
   "source": [
    "# Scree plot \n",
    "plt.plot(k,TWSS, 'ro-');plt.xlabel(\"No_of_Clusters\");plt.ylabel(\"total_within_SS\");plt.xticks(k)"
   ]
  },
  {
   "cell_type": "code",
   "execution_count": 26,
   "metadata": {},
   "outputs": [
    {
     "data": {
      "text/plain": [
       "array([1, 1, 1, 1, 1, 1, 1, 1, 1, 1, 1, 1, 1, 1, 1, 1, 1, 1, 1, 1, 1, 1,\n",
       "       1, 1, 1, 1, 1, 1, 1, 1, 1, 1, 1, 1, 1, 1, 1, 1, 1, 1, 1, 1, 1, 1,\n",
       "       1, 1, 1, 1, 1, 1, 1, 1, 1, 1, 1, 1, 1, 1, 1, 2, 2, 2, 2, 2, 2, 2,\n",
       "       2, 2, 2, 2, 2, 2, 2, 1, 2, 2, 2, 2, 2, 2, 2, 2, 2, 0, 2, 2, 2, 2,\n",
       "       2, 2, 2, 2, 2, 2, 2, 1, 2, 2, 2, 2, 2, 2, 2, 2, 2, 2, 2, 2, 2, 2,\n",
       "       2, 2, 2, 2, 2, 2, 2, 2, 2, 2, 2, 1, 2, 2, 2, 2, 2, 2, 2, 2, 0, 0,\n",
       "       0, 0, 0, 0, 0, 0, 0, 0, 0, 0, 0, 0, 0, 0, 0, 0, 0, 0, 0, 0, 0, 0,\n",
       "       0, 0, 0, 0, 0, 0, 0, 0, 0, 0, 0, 0, 0, 0, 0, 0, 0, 0, 0, 0, 0, 0,\n",
       "       0, 0])"
      ]
     },
     "execution_count": 26,
     "metadata": {},
     "output_type": "execute_result"
    }
   ],
   "source": [
    "from sklearn.cluster import KMeans\n",
    "\n",
    "kmeans = KMeans(n_clusters = 3)\n",
    "kmeans.fit(df1)\n",
    "kmeans.labels_"
   ]
  },
  {
   "cell_type": "markdown",
   "metadata": {},
   "source": [
    "### There are no outliers appearing for this model by usng clusters=3. So,using 3 clusters is good for this model."
   ]
  },
  {
   "cell_type": "markdown",
   "metadata": {},
   "source": [
    "### building Hierachical model"
   ]
  },
  {
   "cell_type": "code",
   "execution_count": 27,
   "metadata": {},
   "outputs": [],
   "source": [
    "from scipy.cluster.hierarchy import linkage \n",
    "import scipy.cluster.hierarchy as sch # for creating dendogram"
   ]
  },
  {
   "cell_type": "code",
   "execution_count": 28,
   "metadata": {},
   "outputs": [],
   "source": [
    "\n",
    "z = linkage(df_normal, method=\"complete\",metric=\"euclidean\")"
   ]
  },
  {
   "cell_type": "code",
   "execution_count": 29,
   "metadata": {},
   "outputs": [
    {
     "data": {
      "image/png": "[encoded data removed]",
      "text/plain": [
       "<Figure size 1080x360 with 1 Axes>"
      ]
     },
     "metadata": {
      "needs_background": "light"
     },
     "output_type": "display_data"
    }
   ],
   "source": [
    "plt.figure(figsize=(15, 5))\n",
    "plt.title('Hierarchical Clustering Dendrogram')\n",
    "plt.xlabel('Index')\n",
    "plt.ylabel('Distance')\n",
    "sch.dendrogram(z,\n",
    "    leaf_rotation=0.,  # rotates the x axis labels\n",
    "    leaf_font_size=8.,  # font size for the x axis labels\n",
    ")\n",
    "plt.show()\n"
   ]
  },
  {
   "cell_type": "code",
   "execution_count": 30,
   "metadata": {},
   "outputs": [],
   "source": [
    "# Now applying AgglomerativeClustering choosing 3 as clusters from the dendrogram\n",
    "from sklearn.cluster import AgglomerativeClustering \n",
    "h_df=AgglomerativeClustering(n_clusters=3,linkage='complete',affinity = \"euclidean\").fit(df_normal)"
   ]
  },
  {
   "cell_type": "code",
   "execution_count": 31,
   "metadata": {},
   "outputs": [
    {
     "data": {
      "text/plain": [
       "AgglomerativeClustering(linkage='complete', n_clusters=3)"
      ]
     },
     "execution_count": 31,
     "metadata": {},
     "output_type": "execute_result"
    }
   ],
   "source": [
    "h_df"
   ]
  },
  {
   "cell_type": "code",
   "execution_count": 32,
   "metadata": {},
   "outputs": [
    {
     "data": {
      "text/plain": [
       "array([0, 0, 0, 0, 0, 0, 0, 0, 0, 0, 0, 0, 0, 0, 0, 0, 0, 0, 0, 0, 0, 0,\n",
       "       0, 0, 0, 0, 0, 0, 0, 0, 0, 0, 0, 0, 0, 0, 0, 0, 0, 0, 0, 0, 0, 0,\n",
       "       0, 0, 0, 0, 0, 0, 0, 0, 0, 0, 0, 0, 0, 0, 0, 1, 0, 0, 1, 0, 0, 0,\n",
       "       0, 0, 0, 0, 0, 0, 0, 0, 0, 1, 1, 0, 0, 0, 0, 0, 0, 2, 0, 0, 0, 0,\n",
       "       0, 0, 0, 0, 0, 0, 0, 0, 0, 0, 0, 0, 1, 0, 0, 0, 0, 0, 0, 0, 0, 0,\n",
       "       0, 0, 0, 0, 0, 0, 0, 0, 2, 0, 0, 0, 0, 0, 0, 0, 0, 0, 0, 2, 2, 2,\n",
       "       2, 2, 2, 2, 2, 2, 2, 2, 2, 2, 2, 2, 2, 2, 2, 2, 2, 2, 2, 2, 2, 2,\n",
       "       2, 2, 2, 2, 2, 2, 2, 2, 2, 2, 2, 2, 2, 2, 2, 2, 2, 2, 2, 2, 2, 2,\n",
       "       2, 2], dtype=int64)"
      ]
     },
     "execution_count": 32,
     "metadata": {},
     "output_type": "execute_result"
    }
   ],
   "source": [
    "h_df.labels_"
   ]
  },
  {
   "cell_type": "markdown",
   "metadata": {},
   "source": [
    "### As per the above displayed dendogram, we get two clusters.As i have entered n_clusters as 3 and i chosed linkage='complete' so it has formed 3 cluster and output is obtained for that.¶"
   ]
  }
 ],
 "metadata": {
  "kernelspec": {
   "display_name": "Python 3",
   "language": "python",
   "name": "python3"
  },
  "language_info": {
   "codemirror_mode": {
    "name": "ipython",
    "version": 3
   },
   "file_extension": ".py",
   "mimetype": "text/x-python",
   "name": "python",
   "nbconvert_exporter": "python",
   "pygments_lexer": "ipython3",
   "version": "3.8.5"
  }
 },
 "nbformat": 4,
 "nbformat_minor": 4
}
